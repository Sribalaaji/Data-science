{
  "nbformat": 4,
  "nbformat_minor": 0,
  "metadata": {
    "colab": {
      "name": "Untitled2.ipynb",
      "provenance": []
    },
    "kernelspec": {
      "name": "python3",
      "display_name": "Python 3"
    }
  },
  "cells": [
    {
      "cell_type": "code",
      "metadata": {
        "id": "848UTIepAYQm"
      },
      "source": [
        "import pandas as pd"
      ],
      "execution_count": 2,
      "outputs": []
    },
    {
      "cell_type": "code",
      "metadata": {
        "id": "t71L6QGkCXjx"
      },
      "source": [
        "from keras.models import Sequential"
      ],
      "execution_count": 3,
      "outputs": []
    },
    {
      "cell_type": "code",
      "metadata": {
        "id": "MOf9N4eiCaV1"
      },
      "source": [
        "from keras.layers import Dense"
      ],
      "execution_count": 4,
      "outputs": []
    },
    {
      "cell_type": "code",
      "metadata": {
        "id": "Qg2u5WBLCr5u"
      },
      "source": [
        "##Read the dataset"
      ],
      "execution_count": 8,
      "outputs": []
    },
    {
      "cell_type": "code",
      "metadata": {
        "id": "MIjXO6RvCckl"
      },
      "source": [
        "data = pd.read_csv(\"diabetes.csv\")"
      ],
      "execution_count": 9,
      "outputs": []
    },
    {
      "cell_type": "code",
      "metadata": {
        "colab": {
          "base_uri": "https://localhost:8080/",
          "height": 204
        },
        "id": "_6GAMIVGCi9c",
        "outputId": "146bb9c5-c343-46de-d16f-fab56b7a8b7b"
      },
      "source": [
        "data.head()"
      ],
      "execution_count": 10,
      "outputs": [
        {
          "output_type": "execute_result",
          "data": {
            "text/html": [
              "<div>\n",
              "<style scoped>\n",
              "    .dataframe tbody tr th:only-of-type {\n",
              "        vertical-align: middle;\n",
              "    }\n",
              "\n",
              "    .dataframe tbody tr th {\n",
              "        vertical-align: top;\n",
              "    }\n",
              "\n",
              "    .dataframe thead th {\n",
              "        text-align: right;\n",
              "    }\n",
              "</style>\n",
              "<table border=\"1\" class=\"dataframe\">\n",
              "  <thead>\n",
              "    <tr style=\"text-align: right;\">\n",
              "      <th></th>\n",
              "      <th>Pregnancies</th>\n",
              "      <th>Glucose</th>\n",
              "      <th>BloodPressure</th>\n",
              "      <th>SkinThickness</th>\n",
              "      <th>Insulin</th>\n",
              "      <th>BMI</th>\n",
              "      <th>DiabetesPedigreeFunction</th>\n",
              "      <th>Age</th>\n",
              "      <th>Outcome</th>\n",
              "    </tr>\n",
              "  </thead>\n",
              "  <tbody>\n",
              "    <tr>\n",
              "      <th>0</th>\n",
              "      <td>6</td>\n",
              "      <td>148</td>\n",
              "      <td>72</td>\n",
              "      <td>35</td>\n",
              "      <td>0</td>\n",
              "      <td>33.6</td>\n",
              "      <td>0.627</td>\n",
              "      <td>50</td>\n",
              "      <td>1</td>\n",
              "    </tr>\n",
              "    <tr>\n",
              "      <th>1</th>\n",
              "      <td>1</td>\n",
              "      <td>85</td>\n",
              "      <td>66</td>\n",
              "      <td>29</td>\n",
              "      <td>0</td>\n",
              "      <td>26.6</td>\n",
              "      <td>0.351</td>\n",
              "      <td>31</td>\n",
              "      <td>0</td>\n",
              "    </tr>\n",
              "    <tr>\n",
              "      <th>2</th>\n",
              "      <td>8</td>\n",
              "      <td>183</td>\n",
              "      <td>64</td>\n",
              "      <td>0</td>\n",
              "      <td>0</td>\n",
              "      <td>23.3</td>\n",
              "      <td>0.672</td>\n",
              "      <td>32</td>\n",
              "      <td>1</td>\n",
              "    </tr>\n",
              "    <tr>\n",
              "      <th>3</th>\n",
              "      <td>1</td>\n",
              "      <td>89</td>\n",
              "      <td>66</td>\n",
              "      <td>23</td>\n",
              "      <td>94</td>\n",
              "      <td>28.1</td>\n",
              "      <td>0.167</td>\n",
              "      <td>21</td>\n",
              "      <td>0</td>\n",
              "    </tr>\n",
              "    <tr>\n",
              "      <th>4</th>\n",
              "      <td>0</td>\n",
              "      <td>137</td>\n",
              "      <td>40</td>\n",
              "      <td>35</td>\n",
              "      <td>168</td>\n",
              "      <td>43.1</td>\n",
              "      <td>2.288</td>\n",
              "      <td>33</td>\n",
              "      <td>1</td>\n",
              "    </tr>\n",
              "  </tbody>\n",
              "</table>\n",
              "</div>"
            ],
            "text/plain": [
              "   Pregnancies  Glucose  BloodPressure  ...  DiabetesPedigreeFunction  Age  Outcome\n",
              "0            6      148             72  ...                     0.627   50        1\n",
              "1            1       85             66  ...                     0.351   31        0\n",
              "2            8      183             64  ...                     0.672   32        1\n",
              "3            1       89             66  ...                     0.167   21        0\n",
              "4            0      137             40  ...                     2.288   33        1\n",
              "\n",
              "[5 rows x 9 columns]"
            ]
          },
          "metadata": {
            "tags": []
          },
          "execution_count": 10
        }
      ]
    },
    {
      "cell_type": "code",
      "metadata": {
        "colab": {
          "base_uri": "https://localhost:8080/",
          "height": 317
        },
        "id": "IoAszkc3ETLs",
        "outputId": "f5aef61c-3e3f-49f7-8412-d46681307b02"
      },
      "source": [
        "data.describe()"
      ],
      "execution_count": 16,
      "outputs": [
        {
          "output_type": "execute_result",
          "data": {
            "text/html": [
              "<div>\n",
              "<style scoped>\n",
              "    .dataframe tbody tr th:only-of-type {\n",
              "        vertical-align: middle;\n",
              "    }\n",
              "\n",
              "    .dataframe tbody tr th {\n",
              "        vertical-align: top;\n",
              "    }\n",
              "\n",
              "    .dataframe thead th {\n",
              "        text-align: right;\n",
              "    }\n",
              "</style>\n",
              "<table border=\"1\" class=\"dataframe\">\n",
              "  <thead>\n",
              "    <tr style=\"text-align: right;\">\n",
              "      <th></th>\n",
              "      <th>Pregnancies</th>\n",
              "      <th>Glucose</th>\n",
              "      <th>BloodPressure</th>\n",
              "      <th>SkinThickness</th>\n",
              "      <th>Insulin</th>\n",
              "      <th>BMI</th>\n",
              "      <th>DiabetesPedigreeFunction</th>\n",
              "      <th>Age</th>\n",
              "      <th>Outcome</th>\n",
              "    </tr>\n",
              "  </thead>\n",
              "  <tbody>\n",
              "    <tr>\n",
              "      <th>count</th>\n",
              "      <td>768.000000</td>\n",
              "      <td>768.000000</td>\n",
              "      <td>768.000000</td>\n",
              "      <td>768.000000</td>\n",
              "      <td>768.000000</td>\n",
              "      <td>768.000000</td>\n",
              "      <td>768.000000</td>\n",
              "      <td>768.000000</td>\n",
              "      <td>768.000000</td>\n",
              "    </tr>\n",
              "    <tr>\n",
              "      <th>mean</th>\n",
              "      <td>3.845052</td>\n",
              "      <td>120.894531</td>\n",
              "      <td>69.105469</td>\n",
              "      <td>20.536458</td>\n",
              "      <td>79.799479</td>\n",
              "      <td>31.992578</td>\n",
              "      <td>0.471876</td>\n",
              "      <td>33.240885</td>\n",
              "      <td>0.348958</td>\n",
              "    </tr>\n",
              "    <tr>\n",
              "      <th>std</th>\n",
              "      <td>3.369578</td>\n",
              "      <td>31.972618</td>\n",
              "      <td>19.355807</td>\n",
              "      <td>15.952218</td>\n",
              "      <td>115.244002</td>\n",
              "      <td>7.884160</td>\n",
              "      <td>0.331329</td>\n",
              "      <td>11.760232</td>\n",
              "      <td>0.476951</td>\n",
              "    </tr>\n",
              "    <tr>\n",
              "      <th>min</th>\n",
              "      <td>0.000000</td>\n",
              "      <td>0.000000</td>\n",
              "      <td>0.000000</td>\n",
              "      <td>0.000000</td>\n",
              "      <td>0.000000</td>\n",
              "      <td>0.000000</td>\n",
              "      <td>0.078000</td>\n",
              "      <td>21.000000</td>\n",
              "      <td>0.000000</td>\n",
              "    </tr>\n",
              "    <tr>\n",
              "      <th>25%</th>\n",
              "      <td>1.000000</td>\n",
              "      <td>99.000000</td>\n",
              "      <td>62.000000</td>\n",
              "      <td>0.000000</td>\n",
              "      <td>0.000000</td>\n",
              "      <td>27.300000</td>\n",
              "      <td>0.243750</td>\n",
              "      <td>24.000000</td>\n",
              "      <td>0.000000</td>\n",
              "    </tr>\n",
              "    <tr>\n",
              "      <th>50%</th>\n",
              "      <td>3.000000</td>\n",
              "      <td>117.000000</td>\n",
              "      <td>72.000000</td>\n",
              "      <td>23.000000</td>\n",
              "      <td>30.500000</td>\n",
              "      <td>32.000000</td>\n",
              "      <td>0.372500</td>\n",
              "      <td>29.000000</td>\n",
              "      <td>0.000000</td>\n",
              "    </tr>\n",
              "    <tr>\n",
              "      <th>75%</th>\n",
              "      <td>6.000000</td>\n",
              "      <td>140.250000</td>\n",
              "      <td>80.000000</td>\n",
              "      <td>32.000000</td>\n",
              "      <td>127.250000</td>\n",
              "      <td>36.600000</td>\n",
              "      <td>0.626250</td>\n",
              "      <td>41.000000</td>\n",
              "      <td>1.000000</td>\n",
              "    </tr>\n",
              "    <tr>\n",
              "      <th>max</th>\n",
              "      <td>17.000000</td>\n",
              "      <td>199.000000</td>\n",
              "      <td>122.000000</td>\n",
              "      <td>99.000000</td>\n",
              "      <td>846.000000</td>\n",
              "      <td>67.100000</td>\n",
              "      <td>2.420000</td>\n",
              "      <td>81.000000</td>\n",
              "      <td>1.000000</td>\n",
              "    </tr>\n",
              "  </tbody>\n",
              "</table>\n",
              "</div>"
            ],
            "text/plain": [
              "       Pregnancies     Glucose  ...         Age     Outcome\n",
              "count   768.000000  768.000000  ...  768.000000  768.000000\n",
              "mean      3.845052  120.894531  ...   33.240885    0.348958\n",
              "std       3.369578   31.972618  ...   11.760232    0.476951\n",
              "min       0.000000    0.000000  ...   21.000000    0.000000\n",
              "25%       1.000000   99.000000  ...   24.000000    0.000000\n",
              "50%       3.000000  117.000000  ...   29.000000    0.000000\n",
              "75%       6.000000  140.250000  ...   41.000000    1.000000\n",
              "max      17.000000  199.000000  ...   81.000000    1.000000\n",
              "\n",
              "[8 rows x 9 columns]"
            ]
          },
          "metadata": {
            "tags": []
          },
          "execution_count": 16
        }
      ]
    },
    {
      "cell_type": "markdown",
      "metadata": {
        "id": "WhR8gszXFCfE"
      },
      "source": [
        "The data has total of 768 rows and 9 columns\r\n"
      ]
    },
    {
      "cell_type": "code",
      "metadata": {
        "id": "h9xnMCSsDPvE"
      },
      "source": [
        "##checking any missing values"
      ],
      "execution_count": 11,
      "outputs": []
    },
    {
      "cell_type": "code",
      "metadata": {
        "colab": {
          "base_uri": "https://localhost:8080/"
        },
        "id": "LQfnkjnJDWT7",
        "outputId": "1b8d1362-5fe6-4f35-ae62-c39cc32c5f3f"
      },
      "source": [
        "data.isnull().sum(axis=0)"
      ],
      "execution_count": 12,
      "outputs": [
        {
          "output_type": "execute_result",
          "data": {
            "text/plain": [
              "Pregnancies                 0\n",
              "Glucose                     0\n",
              "BloodPressure               0\n",
              "SkinThickness               0\n",
              "Insulin                     0\n",
              "BMI                         0\n",
              "DiabetesPedigreeFunction    0\n",
              "Age                         0\n",
              "Outcome                     0\n",
              "dtype: int64"
            ]
          },
          "metadata": {
            "tags": []
          },
          "execution_count": 12
        }
      ]
    },
    {
      "cell_type": "markdown",
      "metadata": {
        "id": "mdKrCFOAFWPh"
      },
      "source": [
        "There are no missing values in the data"
      ]
    },
    {
      "cell_type": "code",
      "metadata": {
        "id": "xDQiscM3DlYj"
      },
      "source": [
        "## spliting the data into X and Y\r\n",
        "X = data.iloc[:,:-1]\r\n",
        "Y = data.iloc[:,-1] "
      ],
      "execution_count": 13,
      "outputs": []
    },
    {
      "cell_type": "code",
      "metadata": {
        "colab": {
          "base_uri": "https://localhost:8080/"
        },
        "id": "XqE0P3nED4bx",
        "outputId": "2b1af0f5-7ec9-4d7a-f7a7-dc487496a3fa"
      },
      "source": [
        "print(X)\r\n",
        "print(Y)"
      ],
      "execution_count": 15,
      "outputs": [
        {
          "output_type": "stream",
          "text": [
            "     Pregnancies  Glucose  BloodPressure  ...   BMI  DiabetesPedigreeFunction  Age\n",
            "0              6      148             72  ...  33.6                     0.627   50\n",
            "1              1       85             66  ...  26.6                     0.351   31\n",
            "2              8      183             64  ...  23.3                     0.672   32\n",
            "3              1       89             66  ...  28.1                     0.167   21\n",
            "4              0      137             40  ...  43.1                     2.288   33\n",
            "..           ...      ...            ...  ...   ...                       ...  ...\n",
            "763           10      101             76  ...  32.9                     0.171   63\n",
            "764            2      122             70  ...  36.8                     0.340   27\n",
            "765            5      121             72  ...  26.2                     0.245   30\n",
            "766            1      126             60  ...  30.1                     0.349   47\n",
            "767            1       93             70  ...  30.4                     0.315   23\n",
            "\n",
            "[768 rows x 8 columns]\n",
            "0      1\n",
            "1      0\n",
            "2      1\n",
            "3      0\n",
            "4      1\n",
            "      ..\n",
            "763    0\n",
            "764    0\n",
            "765    0\n",
            "766    1\n",
            "767    0\n",
            "Name: Outcome, Length: 768, dtype: int64\n"
          ],
          "name": "stdout"
        }
      ]
    },
    {
      "cell_type": "markdown",
      "metadata": {
        "id": "Xj5yqfI5FnRA"
      },
      "source": [
        "Spliting the dataset into train data and test data by importint train_test_split from Scikit-learn"
      ]
    },
    {
      "cell_type": "code",
      "metadata": {
        "id": "qdhvt1jFF0T5"
      },
      "source": [
        "from sklearn.model_selection import train_test_split\r\n",
        "\r\n",
        "x_train,x_test,y_train,y_test = train_test_split(X,Y,test_size = 0.2, random_state = 1234, stratify = Y)"
      ],
      "execution_count": 18,
      "outputs": []
    },
    {
      "cell_type": "markdown",
      "metadata": {
        "id": "PlgJPUAnGLnC"
      },
      "source": [
        "The dataset has been splitted in 80%-20% ratio"
      ]
    },
    {
      "cell_type": "code",
      "metadata": {
        "colab": {
          "base_uri": "https://localhost:8080/",
          "height": 419
        },
        "id": "xrjjpVVxGKLe",
        "outputId": "e74c1d13-294b-4e51-9ec9-5b5ce05b4d3d"
      },
      "source": [
        "x_train"
      ],
      "execution_count": 20,
      "outputs": [
        {
          "output_type": "execute_result",
          "data": {
            "text/html": [
              "<div>\n",
              "<style scoped>\n",
              "    .dataframe tbody tr th:only-of-type {\n",
              "        vertical-align: middle;\n",
              "    }\n",
              "\n",
              "    .dataframe tbody tr th {\n",
              "        vertical-align: top;\n",
              "    }\n",
              "\n",
              "    .dataframe thead th {\n",
              "        text-align: right;\n",
              "    }\n",
              "</style>\n",
              "<table border=\"1\" class=\"dataframe\">\n",
              "  <thead>\n",
              "    <tr style=\"text-align: right;\">\n",
              "      <th></th>\n",
              "      <th>Pregnancies</th>\n",
              "      <th>Glucose</th>\n",
              "      <th>BloodPressure</th>\n",
              "      <th>SkinThickness</th>\n",
              "      <th>Insulin</th>\n",
              "      <th>BMI</th>\n",
              "      <th>DiabetesPedigreeFunction</th>\n",
              "      <th>Age</th>\n",
              "    </tr>\n",
              "  </thead>\n",
              "  <tbody>\n",
              "    <tr>\n",
              "      <th>54</th>\n",
              "      <td>7</td>\n",
              "      <td>150</td>\n",
              "      <td>66</td>\n",
              "      <td>42</td>\n",
              "      <td>342</td>\n",
              "      <td>34.7</td>\n",
              "      <td>0.718</td>\n",
              "      <td>42</td>\n",
              "    </tr>\n",
              "    <tr>\n",
              "      <th>159</th>\n",
              "      <td>17</td>\n",
              "      <td>163</td>\n",
              "      <td>72</td>\n",
              "      <td>41</td>\n",
              "      <td>114</td>\n",
              "      <td>40.9</td>\n",
              "      <td>0.817</td>\n",
              "      <td>47</td>\n",
              "    </tr>\n",
              "    <tr>\n",
              "      <th>30</th>\n",
              "      <td>5</td>\n",
              "      <td>109</td>\n",
              "      <td>75</td>\n",
              "      <td>26</td>\n",
              "      <td>0</td>\n",
              "      <td>36.0</td>\n",
              "      <td>0.546</td>\n",
              "      <td>60</td>\n",
              "    </tr>\n",
              "    <tr>\n",
              "      <th>622</th>\n",
              "      <td>6</td>\n",
              "      <td>183</td>\n",
              "      <td>94</td>\n",
              "      <td>0</td>\n",
              "      <td>0</td>\n",
              "      <td>40.8</td>\n",
              "      <td>1.461</td>\n",
              "      <td>45</td>\n",
              "    </tr>\n",
              "    <tr>\n",
              "      <th>462</th>\n",
              "      <td>8</td>\n",
              "      <td>74</td>\n",
              "      <td>70</td>\n",
              "      <td>40</td>\n",
              "      <td>49</td>\n",
              "      <td>35.3</td>\n",
              "      <td>0.705</td>\n",
              "      <td>39</td>\n",
              "    </tr>\n",
              "    <tr>\n",
              "      <th>...</th>\n",
              "      <td>...</td>\n",
              "      <td>...</td>\n",
              "      <td>...</td>\n",
              "      <td>...</td>\n",
              "      <td>...</td>\n",
              "      <td>...</td>\n",
              "      <td>...</td>\n",
              "      <td>...</td>\n",
              "    </tr>\n",
              "    <tr>\n",
              "      <th>84</th>\n",
              "      <td>5</td>\n",
              "      <td>137</td>\n",
              "      <td>108</td>\n",
              "      <td>0</td>\n",
              "      <td>0</td>\n",
              "      <td>48.8</td>\n",
              "      <td>0.227</td>\n",
              "      <td>37</td>\n",
              "    </tr>\n",
              "    <tr>\n",
              "      <th>223</th>\n",
              "      <td>7</td>\n",
              "      <td>142</td>\n",
              "      <td>60</td>\n",
              "      <td>33</td>\n",
              "      <td>190</td>\n",
              "      <td>28.8</td>\n",
              "      <td>0.687</td>\n",
              "      <td>61</td>\n",
              "    </tr>\n",
              "    <tr>\n",
              "      <th>36</th>\n",
              "      <td>11</td>\n",
              "      <td>138</td>\n",
              "      <td>76</td>\n",
              "      <td>0</td>\n",
              "      <td>0</td>\n",
              "      <td>33.2</td>\n",
              "      <td>0.420</td>\n",
              "      <td>35</td>\n",
              "    </tr>\n",
              "    <tr>\n",
              "      <th>457</th>\n",
              "      <td>5</td>\n",
              "      <td>86</td>\n",
              "      <td>68</td>\n",
              "      <td>28</td>\n",
              "      <td>71</td>\n",
              "      <td>30.2</td>\n",
              "      <td>0.364</td>\n",
              "      <td>24</td>\n",
              "    </tr>\n",
              "    <tr>\n",
              "      <th>242</th>\n",
              "      <td>3</td>\n",
              "      <td>139</td>\n",
              "      <td>54</td>\n",
              "      <td>0</td>\n",
              "      <td>0</td>\n",
              "      <td>25.6</td>\n",
              "      <td>0.402</td>\n",
              "      <td>22</td>\n",
              "    </tr>\n",
              "  </tbody>\n",
              "</table>\n",
              "<p>614 rows × 8 columns</p>\n",
              "</div>"
            ],
            "text/plain": [
              "     Pregnancies  Glucose  BloodPressure  ...   BMI  DiabetesPedigreeFunction  Age\n",
              "54             7      150             66  ...  34.7                     0.718   42\n",
              "159           17      163             72  ...  40.9                     0.817   47\n",
              "30             5      109             75  ...  36.0                     0.546   60\n",
              "622            6      183             94  ...  40.8                     1.461   45\n",
              "462            8       74             70  ...  35.3                     0.705   39\n",
              "..           ...      ...            ...  ...   ...                       ...  ...\n",
              "84             5      137            108  ...  48.8                     0.227   37\n",
              "223            7      142             60  ...  28.8                     0.687   61\n",
              "36            11      138             76  ...  33.2                     0.420   35\n",
              "457            5       86             68  ...  30.2                     0.364   24\n",
              "242            3      139             54  ...  25.6                     0.402   22\n",
              "\n",
              "[614 rows x 8 columns]"
            ]
          },
          "metadata": {
            "tags": []
          },
          "execution_count": 20
        }
      ]
    },
    {
      "cell_type": "code",
      "metadata": {
        "colab": {
          "base_uri": "https://localhost:8080/",
          "height": 419
        },
        "id": "CiBYoOzkG0h-",
        "outputId": "13f5fb2b-c32d-48bd-aa70-de4e61687ed9"
      },
      "source": [
        "x_test"
      ],
      "execution_count": 21,
      "outputs": [
        {
          "output_type": "execute_result",
          "data": {
            "text/html": [
              "<div>\n",
              "<style scoped>\n",
              "    .dataframe tbody tr th:only-of-type {\n",
              "        vertical-align: middle;\n",
              "    }\n",
              "\n",
              "    .dataframe tbody tr th {\n",
              "        vertical-align: top;\n",
              "    }\n",
              "\n",
              "    .dataframe thead th {\n",
              "        text-align: right;\n",
              "    }\n",
              "</style>\n",
              "<table border=\"1\" class=\"dataframe\">\n",
              "  <thead>\n",
              "    <tr style=\"text-align: right;\">\n",
              "      <th></th>\n",
              "      <th>Pregnancies</th>\n",
              "      <th>Glucose</th>\n",
              "      <th>BloodPressure</th>\n",
              "      <th>SkinThickness</th>\n",
              "      <th>Insulin</th>\n",
              "      <th>BMI</th>\n",
              "      <th>DiabetesPedigreeFunction</th>\n",
              "      <th>Age</th>\n",
              "    </tr>\n",
              "  </thead>\n",
              "  <tbody>\n",
              "    <tr>\n",
              "      <th>511</th>\n",
              "      <td>0</td>\n",
              "      <td>139</td>\n",
              "      <td>62</td>\n",
              "      <td>17</td>\n",
              "      <td>210</td>\n",
              "      <td>22.1</td>\n",
              "      <td>0.207</td>\n",
              "      <td>21</td>\n",
              "    </tr>\n",
              "    <tr>\n",
              "      <th>707</th>\n",
              "      <td>2</td>\n",
              "      <td>127</td>\n",
              "      <td>46</td>\n",
              "      <td>21</td>\n",
              "      <td>335</td>\n",
              "      <td>34.4</td>\n",
              "      <td>0.176</td>\n",
              "      <td>22</td>\n",
              "    </tr>\n",
              "    <tr>\n",
              "      <th>596</th>\n",
              "      <td>0</td>\n",
              "      <td>67</td>\n",
              "      <td>76</td>\n",
              "      <td>0</td>\n",
              "      <td>0</td>\n",
              "      <td>45.3</td>\n",
              "      <td>0.194</td>\n",
              "      <td>46</td>\n",
              "    </tr>\n",
              "    <tr>\n",
              "      <th>595</th>\n",
              "      <td>0</td>\n",
              "      <td>188</td>\n",
              "      <td>82</td>\n",
              "      <td>14</td>\n",
              "      <td>185</td>\n",
              "      <td>32.0</td>\n",
              "      <td>0.682</td>\n",
              "      <td>22</td>\n",
              "    </tr>\n",
              "    <tr>\n",
              "      <th>283</th>\n",
              "      <td>7</td>\n",
              "      <td>161</td>\n",
              "      <td>86</td>\n",
              "      <td>0</td>\n",
              "      <td>0</td>\n",
              "      <td>30.4</td>\n",
              "      <td>0.165</td>\n",
              "      <td>47</td>\n",
              "    </tr>\n",
              "    <tr>\n",
              "      <th>...</th>\n",
              "      <td>...</td>\n",
              "      <td>...</td>\n",
              "      <td>...</td>\n",
              "      <td>...</td>\n",
              "      <td>...</td>\n",
              "      <td>...</td>\n",
              "      <td>...</td>\n",
              "      <td>...</td>\n",
              "    </tr>\n",
              "    <tr>\n",
              "      <th>385</th>\n",
              "      <td>1</td>\n",
              "      <td>119</td>\n",
              "      <td>54</td>\n",
              "      <td>13</td>\n",
              "      <td>50</td>\n",
              "      <td>22.3</td>\n",
              "      <td>0.205</td>\n",
              "      <td>24</td>\n",
              "    </tr>\n",
              "    <tr>\n",
              "      <th>383</th>\n",
              "      <td>1</td>\n",
              "      <td>90</td>\n",
              "      <td>62</td>\n",
              "      <td>18</td>\n",
              "      <td>59</td>\n",
              "      <td>25.1</td>\n",
              "      <td>1.268</td>\n",
              "      <td>25</td>\n",
              "    </tr>\n",
              "    <tr>\n",
              "      <th>481</th>\n",
              "      <td>0</td>\n",
              "      <td>123</td>\n",
              "      <td>88</td>\n",
              "      <td>37</td>\n",
              "      <td>0</td>\n",
              "      <td>35.2</td>\n",
              "      <td>0.197</td>\n",
              "      <td>29</td>\n",
              "    </tr>\n",
              "    <tr>\n",
              "      <th>136</th>\n",
              "      <td>0</td>\n",
              "      <td>100</td>\n",
              "      <td>70</td>\n",
              "      <td>26</td>\n",
              "      <td>50</td>\n",
              "      <td>30.8</td>\n",
              "      <td>0.597</td>\n",
              "      <td>21</td>\n",
              "    </tr>\n",
              "    <tr>\n",
              "      <th>394</th>\n",
              "      <td>4</td>\n",
              "      <td>158</td>\n",
              "      <td>78</td>\n",
              "      <td>0</td>\n",
              "      <td>0</td>\n",
              "      <td>32.9</td>\n",
              "      <td>0.803</td>\n",
              "      <td>31</td>\n",
              "    </tr>\n",
              "  </tbody>\n",
              "</table>\n",
              "<p>154 rows × 8 columns</p>\n",
              "</div>"
            ],
            "text/plain": [
              "     Pregnancies  Glucose  BloodPressure  ...   BMI  DiabetesPedigreeFunction  Age\n",
              "511            0      139             62  ...  22.1                     0.207   21\n",
              "707            2      127             46  ...  34.4                     0.176   22\n",
              "596            0       67             76  ...  45.3                     0.194   46\n",
              "595            0      188             82  ...  32.0                     0.682   22\n",
              "283            7      161             86  ...  30.4                     0.165   47\n",
              "..           ...      ...            ...  ...   ...                       ...  ...\n",
              "385            1      119             54  ...  22.3                     0.205   24\n",
              "383            1       90             62  ...  25.1                     1.268   25\n",
              "481            0      123             88  ...  35.2                     0.197   29\n",
              "136            0      100             70  ...  30.8                     0.597   21\n",
              "394            4      158             78  ...  32.9                     0.803   31\n",
              "\n",
              "[154 rows x 8 columns]"
            ]
          },
          "metadata": {
            "tags": []
          },
          "execution_count": 21
        }
      ]
    },
    {
      "cell_type": "markdown",
      "metadata": {
        "id": "hLLtGHVyG-aq"
      },
      "source": [
        "Defining the keras model"
      ]
    },
    {
      "cell_type": "code",
      "metadata": {
        "id": "dFMDoK4WG2_k"
      },
      "source": [
        "model = Sequential()\r\n",
        "\r\n",
        "model.add(Dense(24,\r\n",
        "                input_shape = (8,),\r\n",
        "                activation = \"relu\",\r\n",
        "                kernel_initializer = \"RandomNormal\"))\r\n",
        "\r\n",
        "model.add(Dense(12,\r\n",
        "                activation = \"relu\",\r\n",
        "                kernel_initializer = \"RandomNormal\"))\r\n",
        "\r\n",
        "model.add(Dense(1,\r\n",
        "                activation=\"sigmoid\"))"
      ],
      "execution_count": 24,
      "outputs": []
    },
    {
      "cell_type": "markdown",
      "metadata": {
        "id": "2-tgdEn9HTQw"
      },
      "source": [
        "For this model sequential model has been selected, Relu has been selected for activation function and randomnormal for initializer"
      ]
    },
    {
      "cell_type": "code",
      "metadata": {
        "id": "8pM1yFYJHOtL"
      },
      "source": [
        "##compiling the model\r\n",
        "model.compile(optimizer = \"adam\",\r\n",
        "              loss = \"binary_crossentropy\",\r\n",
        "              metrics = [\"accuracy\"])"
      ],
      "execution_count": 25,
      "outputs": []
    },
    {
      "cell_type": "markdown",
      "metadata": {
        "id": "fAtBUjlQIHc_"
      },
      "source": [
        "The optimizer chosen was Adam and for loss function Binary cross entropy has been selected"
      ]
    },
    {
      "cell_type": "markdown",
      "metadata": {
        "id": "BuHpuyYbIiZG"
      },
      "source": [
        "Now run the model with epochs 160 and batch size of 10"
      ]
    },
    {
      "cell_type": "code",
      "metadata": {
        "colab": {
          "base_uri": "https://localhost:8080/"
        },
        "id": "ZcHMUCQUIWi6",
        "outputId": "dd8ff1b0-3045-4942-ed13-d60eb4610696"
      },
      "source": [
        "model.fit(x_train,y_train, epochs = 160,batch_size = 10)"
      ],
      "execution_count": 26,
      "outputs": [
        {
          "output_type": "stream",
          "text": [
            "Epoch 1/160\n",
            "62/62 [==============================] - 1s 1ms/step - loss: 0.8292 - accuracy: 0.5631\n",
            "Epoch 2/160\n",
            "62/62 [==============================] - 0s 1ms/step - loss: 0.6520 - accuracy: 0.6478\n",
            "Epoch 3/160\n",
            "62/62 [==============================] - 0s 1ms/step - loss: 0.6450 - accuracy: 0.6302\n",
            "Epoch 4/160\n",
            "62/62 [==============================] - 0s 1ms/step - loss: 0.6216 - accuracy: 0.6336\n",
            "Epoch 5/160\n",
            "62/62 [==============================] - 0s 1ms/step - loss: 0.6295 - accuracy: 0.6577\n",
            "Epoch 6/160\n",
            "62/62 [==============================] - 0s 1ms/step - loss: 0.6001 - accuracy: 0.6829\n",
            "Epoch 7/160\n",
            "62/62 [==============================] - 0s 1ms/step - loss: 0.6172 - accuracy: 0.6775\n",
            "Epoch 8/160\n",
            "62/62 [==============================] - 0s 1ms/step - loss: 0.6075 - accuracy: 0.6684\n",
            "Epoch 9/160\n",
            "62/62 [==============================] - 0s 1ms/step - loss: 0.5914 - accuracy: 0.7066\n",
            "Epoch 10/160\n",
            "62/62 [==============================] - 0s 1ms/step - loss: 0.5988 - accuracy: 0.6781\n",
            "Epoch 11/160\n",
            "62/62 [==============================] - 0s 1ms/step - loss: 0.5774 - accuracy: 0.7157\n",
            "Epoch 12/160\n",
            "62/62 [==============================] - 0s 1ms/step - loss: 0.5759 - accuracy: 0.7151\n",
            "Epoch 13/160\n",
            "62/62 [==============================] - 0s 1ms/step - loss: 0.5924 - accuracy: 0.6998\n",
            "Epoch 14/160\n",
            "62/62 [==============================] - 0s 1ms/step - loss: 0.5767 - accuracy: 0.6977\n",
            "Epoch 15/160\n",
            "62/62 [==============================] - 0s 1ms/step - loss: 0.5519 - accuracy: 0.7492\n",
            "Epoch 16/160\n",
            "62/62 [==============================] - 0s 1ms/step - loss: 0.5851 - accuracy: 0.7043\n",
            "Epoch 17/160\n",
            "62/62 [==============================] - 0s 1ms/step - loss: 0.5629 - accuracy: 0.7060\n",
            "Epoch 18/160\n",
            "62/62 [==============================] - 0s 1ms/step - loss: 0.5734 - accuracy: 0.7227\n",
            "Epoch 19/160\n",
            "62/62 [==============================] - 0s 1ms/step - loss: 0.5902 - accuracy: 0.6743\n",
            "Epoch 20/160\n",
            "62/62 [==============================] - 0s 1ms/step - loss: 0.5605 - accuracy: 0.7003\n",
            "Epoch 21/160\n",
            "62/62 [==============================] - 0s 1ms/step - loss: 0.5888 - accuracy: 0.7053\n",
            "Epoch 22/160\n",
            "62/62 [==============================] - 0s 1ms/step - loss: 0.5681 - accuracy: 0.7271\n",
            "Epoch 23/160\n",
            "62/62 [==============================] - 0s 1ms/step - loss: 0.5767 - accuracy: 0.7193\n",
            "Epoch 24/160\n",
            "62/62 [==============================] - 0s 1ms/step - loss: 0.5688 - accuracy: 0.7152\n",
            "Epoch 25/160\n",
            "62/62 [==============================] - 0s 1ms/step - loss: 0.5705 - accuracy: 0.7182\n",
            "Epoch 26/160\n",
            "62/62 [==============================] - 0s 1ms/step - loss: 0.5441 - accuracy: 0.7369\n",
            "Epoch 27/160\n",
            "62/62 [==============================] - 0s 1ms/step - loss: 0.5175 - accuracy: 0.7486\n",
            "Epoch 28/160\n",
            "62/62 [==============================] - 0s 1ms/step - loss: 0.5686 - accuracy: 0.7127\n",
            "Epoch 29/160\n",
            "62/62 [==============================] - 0s 1ms/step - loss: 0.5310 - accuracy: 0.7351\n",
            "Epoch 30/160\n",
            "62/62 [==============================] - 0s 1ms/step - loss: 0.5584 - accuracy: 0.7214\n",
            "Epoch 31/160\n",
            "62/62 [==============================] - 0s 2ms/step - loss: 0.5233 - accuracy: 0.7524\n",
            "Epoch 32/160\n",
            "62/62 [==============================] - 0s 1ms/step - loss: 0.5629 - accuracy: 0.7191\n",
            "Epoch 33/160\n",
            "62/62 [==============================] - 0s 1ms/step - loss: 0.5363 - accuracy: 0.7370\n",
            "Epoch 34/160\n",
            "62/62 [==============================] - 0s 1ms/step - loss: 0.5390 - accuracy: 0.7243\n",
            "Epoch 35/160\n",
            "62/62 [==============================] - 0s 1ms/step - loss: 0.5352 - accuracy: 0.7335\n",
            "Epoch 36/160\n",
            "62/62 [==============================] - 0s 1ms/step - loss: 0.5229 - accuracy: 0.7407\n",
            "Epoch 37/160\n",
            "62/62 [==============================] - 0s 1ms/step - loss: 0.5255 - accuracy: 0.7378\n",
            "Epoch 38/160\n",
            "62/62 [==============================] - 0s 1ms/step - loss: 0.5418 - accuracy: 0.7573\n",
            "Epoch 39/160\n",
            "62/62 [==============================] - 0s 1ms/step - loss: 0.5504 - accuracy: 0.7390\n",
            "Epoch 40/160\n",
            "62/62 [==============================] - 0s 1ms/step - loss: 0.5515 - accuracy: 0.7264\n",
            "Epoch 41/160\n",
            "62/62 [==============================] - 0s 1ms/step - loss: 0.5279 - accuracy: 0.7496\n",
            "Epoch 42/160\n",
            "62/62 [==============================] - 0s 1ms/step - loss: 0.5330 - accuracy: 0.7247\n",
            "Epoch 43/160\n",
            "62/62 [==============================] - 0s 1ms/step - loss: 0.5104 - accuracy: 0.7665\n",
            "Epoch 44/160\n",
            "62/62 [==============================] - 0s 1ms/step - loss: 0.5165 - accuracy: 0.7712\n",
            "Epoch 45/160\n",
            "62/62 [==============================] - 0s 1ms/step - loss: 0.5429 - accuracy: 0.7298\n",
            "Epoch 46/160\n",
            "62/62 [==============================] - 0s 1ms/step - loss: 0.5232 - accuracy: 0.7454\n",
            "Epoch 47/160\n",
            "62/62 [==============================] - 0s 1ms/step - loss: 0.5382 - accuracy: 0.7487\n",
            "Epoch 48/160\n",
            "62/62 [==============================] - 0s 1ms/step - loss: 0.5119 - accuracy: 0.7365\n",
            "Epoch 49/160\n",
            "62/62 [==============================] - 0s 1ms/step - loss: 0.5050 - accuracy: 0.7670\n",
            "Epoch 50/160\n",
            "62/62 [==============================] - 0s 1ms/step - loss: 0.5142 - accuracy: 0.7644\n",
            "Epoch 51/160\n",
            "62/62 [==============================] - 0s 1ms/step - loss: 0.5064 - accuracy: 0.7673\n",
            "Epoch 52/160\n",
            "62/62 [==============================] - 0s 1ms/step - loss: 0.5251 - accuracy: 0.7649\n",
            "Epoch 53/160\n",
            "62/62 [==============================] - 0s 1ms/step - loss: 0.5362 - accuracy: 0.7362\n",
            "Epoch 54/160\n",
            "62/62 [==============================] - 0s 1ms/step - loss: 0.5363 - accuracy: 0.7442\n",
            "Epoch 55/160\n",
            "62/62 [==============================] - 0s 1ms/step - loss: 0.5262 - accuracy: 0.7446\n",
            "Epoch 56/160\n",
            "62/62 [==============================] - 0s 1ms/step - loss: 0.5146 - accuracy: 0.7590\n",
            "Epoch 57/160\n",
            "62/62 [==============================] - 0s 1ms/step - loss: 0.5490 - accuracy: 0.7364\n",
            "Epoch 58/160\n",
            "62/62 [==============================] - 0s 1ms/step - loss: 0.4931 - accuracy: 0.7791\n",
            "Epoch 59/160\n",
            "62/62 [==============================] - 0s 1ms/step - loss: 0.4985 - accuracy: 0.7652\n",
            "Epoch 60/160\n",
            "62/62 [==============================] - 0s 1ms/step - loss: 0.4978 - accuracy: 0.7568\n",
            "Epoch 61/160\n",
            "62/62 [==============================] - 0s 1ms/step - loss: 0.5168 - accuracy: 0.7481\n",
            "Epoch 62/160\n",
            "62/62 [==============================] - 0s 1ms/step - loss: 0.5116 - accuracy: 0.7419\n",
            "Epoch 63/160\n",
            "62/62 [==============================] - 0s 1ms/step - loss: 0.5284 - accuracy: 0.7585\n",
            "Epoch 64/160\n",
            "62/62 [==============================] - 0s 1ms/step - loss: 0.5337 - accuracy: 0.7602\n",
            "Epoch 65/160\n",
            "62/62 [==============================] - 0s 1ms/step - loss: 0.5218 - accuracy: 0.7562\n",
            "Epoch 66/160\n",
            "62/62 [==============================] - 0s 1ms/step - loss: 0.5584 - accuracy: 0.7306\n",
            "Epoch 67/160\n",
            "62/62 [==============================] - 0s 1ms/step - loss: 0.4802 - accuracy: 0.7681\n",
            "Epoch 68/160\n",
            "62/62 [==============================] - 0s 1ms/step - loss: 0.5349 - accuracy: 0.7193\n",
            "Epoch 69/160\n",
            "62/62 [==============================] - 0s 1ms/step - loss: 0.5078 - accuracy: 0.7675\n",
            "Epoch 70/160\n",
            "62/62 [==============================] - 0s 1ms/step - loss: 0.5016 - accuracy: 0.7480\n",
            "Epoch 71/160\n",
            "62/62 [==============================] - 0s 1ms/step - loss: 0.5166 - accuracy: 0.7703\n",
            "Epoch 72/160\n",
            "62/62 [==============================] - 0s 1ms/step - loss: 0.5003 - accuracy: 0.7523\n",
            "Epoch 73/160\n",
            "62/62 [==============================] - 0s 1ms/step - loss: 0.4757 - accuracy: 0.7692\n",
            "Epoch 74/160\n",
            "62/62 [==============================] - 0s 1ms/step - loss: 0.4982 - accuracy: 0.7778\n",
            "Epoch 75/160\n",
            "62/62 [==============================] - 0s 1ms/step - loss: 0.5020 - accuracy: 0.7796\n",
            "Epoch 76/160\n",
            "62/62 [==============================] - 0s 1ms/step - loss: 0.4785 - accuracy: 0.7675\n",
            "Epoch 77/160\n",
            "62/62 [==============================] - 0s 1ms/step - loss: 0.4754 - accuracy: 0.7878\n",
            "Epoch 78/160\n",
            "62/62 [==============================] - 0s 2ms/step - loss: 0.4848 - accuracy: 0.7839\n",
            "Epoch 79/160\n",
            "62/62 [==============================] - 0s 1ms/step - loss: 0.4975 - accuracy: 0.7629\n",
            "Epoch 80/160\n",
            "62/62 [==============================] - 0s 1ms/step - loss: 0.4948 - accuracy: 0.7692\n",
            "Epoch 81/160\n",
            "62/62 [==============================] - 0s 1ms/step - loss: 0.4924 - accuracy: 0.7707\n",
            "Epoch 82/160\n",
            "62/62 [==============================] - 0s 1ms/step - loss: 0.4641 - accuracy: 0.7708\n",
            "Epoch 83/160\n",
            "62/62 [==============================] - 0s 1ms/step - loss: 0.4773 - accuracy: 0.7855\n",
            "Epoch 84/160\n",
            "62/62 [==============================] - 0s 1ms/step - loss: 0.4701 - accuracy: 0.7697\n",
            "Epoch 85/160\n",
            "62/62 [==============================] - 0s 1ms/step - loss: 0.4596 - accuracy: 0.7752\n",
            "Epoch 86/160\n",
            "62/62 [==============================] - 0s 1ms/step - loss: 0.4832 - accuracy: 0.7776\n",
            "Epoch 87/160\n",
            "62/62 [==============================] - 0s 1ms/step - loss: 0.4487 - accuracy: 0.7974\n",
            "Epoch 88/160\n",
            "62/62 [==============================] - 0s 1ms/step - loss: 0.4851 - accuracy: 0.7964\n",
            "Epoch 89/160\n",
            "62/62 [==============================] - 0s 1ms/step - loss: 0.4632 - accuracy: 0.8006\n",
            "Epoch 90/160\n",
            "62/62 [==============================] - 0s 1ms/step - loss: 0.4512 - accuracy: 0.7927\n",
            "Epoch 91/160\n",
            "62/62 [==============================] - 0s 1ms/step - loss: 0.4987 - accuracy: 0.7712\n",
            "Epoch 92/160\n",
            "62/62 [==============================] - 0s 2ms/step - loss: 0.5012 - accuracy: 0.7625\n",
            "Epoch 93/160\n",
            "62/62 [==============================] - 0s 1ms/step - loss: 0.4615 - accuracy: 0.7849\n",
            "Epoch 94/160\n",
            "62/62 [==============================] - 0s 1ms/step - loss: 0.4749 - accuracy: 0.7740\n",
            "Epoch 95/160\n",
            "62/62 [==============================] - 0s 1ms/step - loss: 0.4460 - accuracy: 0.7901\n",
            "Epoch 96/160\n",
            "62/62 [==============================] - 0s 1ms/step - loss: 0.4622 - accuracy: 0.7820\n",
            "Epoch 97/160\n",
            "62/62 [==============================] - 0s 1ms/step - loss: 0.4884 - accuracy: 0.7858\n",
            "Epoch 98/160\n",
            "62/62 [==============================] - 0s 1ms/step - loss: 0.4707 - accuracy: 0.7689\n",
            "Epoch 99/160\n",
            "62/62 [==============================] - 0s 1ms/step - loss: 0.4445 - accuracy: 0.7822\n",
            "Epoch 100/160\n",
            "62/62 [==============================] - 0s 1ms/step - loss: 0.5108 - accuracy: 0.7597\n",
            "Epoch 101/160\n",
            "62/62 [==============================] - 0s 1ms/step - loss: 0.4470 - accuracy: 0.8112\n",
            "Epoch 102/160\n",
            "62/62 [==============================] - 0s 1ms/step - loss: 0.4769 - accuracy: 0.7756\n",
            "Epoch 103/160\n",
            "62/62 [==============================] - 0s 1ms/step - loss: 0.4760 - accuracy: 0.7656\n",
            "Epoch 104/160\n",
            "62/62 [==============================] - 0s 1ms/step - loss: 0.4431 - accuracy: 0.7817\n",
            "Epoch 105/160\n",
            "62/62 [==============================] - 0s 1ms/step - loss: 0.4801 - accuracy: 0.7713\n",
            "Epoch 106/160\n",
            "62/62 [==============================] - 0s 1ms/step - loss: 0.4348 - accuracy: 0.8089\n",
            "Epoch 107/160\n",
            "62/62 [==============================] - 0s 1ms/step - loss: 0.4718 - accuracy: 0.7852\n",
            "Epoch 108/160\n",
            "62/62 [==============================] - 0s 1ms/step - loss: 0.4584 - accuracy: 0.7876\n",
            "Epoch 109/160\n",
            "62/62 [==============================] - 0s 1ms/step - loss: 0.4565 - accuracy: 0.7870\n",
            "Epoch 110/160\n",
            "62/62 [==============================] - 0s 1ms/step - loss: 0.5089 - accuracy: 0.7353\n",
            "Epoch 111/160\n",
            "62/62 [==============================] - 0s 1ms/step - loss: 0.5019 - accuracy: 0.7793\n",
            "Epoch 112/160\n",
            "62/62 [==============================] - 0s 1ms/step - loss: 0.4569 - accuracy: 0.7692\n",
            "Epoch 113/160\n",
            "62/62 [==============================] - 0s 1ms/step - loss: 0.4613 - accuracy: 0.7862\n",
            "Epoch 114/160\n",
            "62/62 [==============================] - 0s 1ms/step - loss: 0.4393 - accuracy: 0.8032\n",
            "Epoch 115/160\n",
            "62/62 [==============================] - 0s 1ms/step - loss: 0.4515 - accuracy: 0.7902\n",
            "Epoch 116/160\n",
            "62/62 [==============================] - 0s 1ms/step - loss: 0.4861 - accuracy: 0.7563\n",
            "Epoch 117/160\n",
            "62/62 [==============================] - 0s 1ms/step - loss: 0.4603 - accuracy: 0.7905\n",
            "Epoch 118/160\n",
            "62/62 [==============================] - 0s 1ms/step - loss: 0.4641 - accuracy: 0.7769\n",
            "Epoch 119/160\n",
            "62/62 [==============================] - 0s 1ms/step - loss: 0.4292 - accuracy: 0.7952\n",
            "Epoch 120/160\n",
            "62/62 [==============================] - 0s 1ms/step - loss: 0.4206 - accuracy: 0.8164\n",
            "Epoch 121/160\n",
            "62/62 [==============================] - 0s 1ms/step - loss: 0.4748 - accuracy: 0.7817\n",
            "Epoch 122/160\n",
            "62/62 [==============================] - 0s 1ms/step - loss: 0.4450 - accuracy: 0.8036\n",
            "Epoch 123/160\n",
            "62/62 [==============================] - 0s 1ms/step - loss: 0.4618 - accuracy: 0.7702\n",
            "Epoch 124/160\n",
            "62/62 [==============================] - 0s 1ms/step - loss: 0.4452 - accuracy: 0.7850\n",
            "Epoch 125/160\n",
            "62/62 [==============================] - 0s 1ms/step - loss: 0.4415 - accuracy: 0.8013\n",
            "Epoch 126/160\n",
            "62/62 [==============================] - 0s 1ms/step - loss: 0.4505 - accuracy: 0.7704\n",
            "Epoch 127/160\n",
            "62/62 [==============================] - 0s 1ms/step - loss: 0.4538 - accuracy: 0.7926\n",
            "Epoch 128/160\n",
            "62/62 [==============================] - 0s 1ms/step - loss: 0.4440 - accuracy: 0.7748\n",
            "Epoch 129/160\n",
            "62/62 [==============================] - 0s 1ms/step - loss: 0.4376 - accuracy: 0.8098\n",
            "Epoch 130/160\n",
            "62/62 [==============================] - 0s 1ms/step - loss: 0.4312 - accuracy: 0.7892\n",
            "Epoch 131/160\n",
            "62/62 [==============================] - 0s 1ms/step - loss: 0.4714 - accuracy: 0.7841\n",
            "Epoch 132/160\n",
            "62/62 [==============================] - 0s 1ms/step - loss: 0.4564 - accuracy: 0.7719\n",
            "Epoch 133/160\n",
            "62/62 [==============================] - 0s 1ms/step - loss: 0.4391 - accuracy: 0.8156\n",
            "Epoch 134/160\n",
            "62/62 [==============================] - 0s 1ms/step - loss: 0.4627 - accuracy: 0.8005\n",
            "Epoch 135/160\n",
            "62/62 [==============================] - 0s 1ms/step - loss: 0.4089 - accuracy: 0.8084\n",
            "Epoch 136/160\n",
            "62/62 [==============================] - 0s 2ms/step - loss: 0.4681 - accuracy: 0.8020\n",
            "Epoch 137/160\n",
            "62/62 [==============================] - 0s 1ms/step - loss: 0.4410 - accuracy: 0.7874\n",
            "Epoch 138/160\n",
            "62/62 [==============================] - 0s 1ms/step - loss: 0.4845 - accuracy: 0.7757\n",
            "Epoch 139/160\n",
            "62/62 [==============================] - 0s 1ms/step - loss: 0.4341 - accuracy: 0.7961\n",
            "Epoch 140/160\n",
            "62/62 [==============================] - 0s 1ms/step - loss: 0.3934 - accuracy: 0.8282\n",
            "Epoch 141/160\n",
            "62/62 [==============================] - 0s 1ms/step - loss: 0.4221 - accuracy: 0.7973\n",
            "Epoch 142/160\n",
            "62/62 [==============================] - 0s 1ms/step - loss: 0.4274 - accuracy: 0.7963\n",
            "Epoch 143/160\n",
            "62/62 [==============================] - 0s 1ms/step - loss: 0.4290 - accuracy: 0.7913\n",
            "Epoch 144/160\n",
            "62/62 [==============================] - 0s 1ms/step - loss: 0.4407 - accuracy: 0.7777\n",
            "Epoch 145/160\n",
            "62/62 [==============================] - 0s 1ms/step - loss: 0.4400 - accuracy: 0.7933\n",
            "Epoch 146/160\n",
            "62/62 [==============================] - 0s 1ms/step - loss: 0.4514 - accuracy: 0.7620\n",
            "Epoch 147/160\n",
            "62/62 [==============================] - 0s 1ms/step - loss: 0.4422 - accuracy: 0.7649\n",
            "Epoch 148/160\n",
            "62/62 [==============================] - 0s 2ms/step - loss: 0.4028 - accuracy: 0.8375\n",
            "Epoch 149/160\n",
            "62/62 [==============================] - 0s 1ms/step - loss: 0.4188 - accuracy: 0.7995\n",
            "Epoch 150/160\n",
            "62/62 [==============================] - 0s 1ms/step - loss: 0.4088 - accuracy: 0.8144\n",
            "Epoch 151/160\n",
            "62/62 [==============================] - 0s 1ms/step - loss: 0.4066 - accuracy: 0.8140\n",
            "Epoch 152/160\n",
            "62/62 [==============================] - 0s 1ms/step - loss: 0.4185 - accuracy: 0.7969\n",
            "Epoch 153/160\n",
            "62/62 [==============================] - 0s 1ms/step - loss: 0.4343 - accuracy: 0.8063\n",
            "Epoch 154/160\n",
            "62/62 [==============================] - 0s 1ms/step - loss: 0.4177 - accuracy: 0.7902\n",
            "Epoch 155/160\n",
            "62/62 [==============================] - 0s 1ms/step - loss: 0.4461 - accuracy: 0.7876\n",
            "Epoch 156/160\n",
            "62/62 [==============================] - 0s 1ms/step - loss: 0.4381 - accuracy: 0.7828\n",
            "Epoch 157/160\n",
            "62/62 [==============================] - 0s 1ms/step - loss: 0.3988 - accuracy: 0.8144\n",
            "Epoch 158/160\n",
            "62/62 [==============================] - 0s 1ms/step - loss: 0.4250 - accuracy: 0.8003\n",
            "Epoch 159/160\n",
            "62/62 [==============================] - 0s 1ms/step - loss: 0.4479 - accuracy: 0.7803\n",
            "Epoch 160/160\n",
            "62/62 [==============================] - 0s 1ms/step - loss: 0.4325 - accuracy: 0.8005\n"
          ],
          "name": "stdout"
        },
        {
          "output_type": "execute_result",
          "data": {
            "text/plain": [
              "<tensorflow.python.keras.callbacks.History at 0x7fd700d69f98>"
            ]
          },
          "metadata": {
            "tags": []
          },
          "execution_count": 26
        }
      ]
    },
    {
      "cell_type": "markdown",
      "metadata": {
        "id": "sle2QQj2I8Ay"
      },
      "source": [
        "Now checking the accuracy"
      ]
    },
    {
      "cell_type": "code",
      "metadata": {
        "colab": {
          "base_uri": "https://localhost:8080/"
        },
        "id": "tVybJ84tIyNf",
        "outputId": "937bca41-91f0-4ab3-a4c3-3c09fd8af9bc"
      },
      "source": [
        "accuracy_test = model.evaluate(x_test,y_test)"
      ],
      "execution_count": 27,
      "outputs": [
        {
          "output_type": "stream",
          "text": [
            "5/5 [==============================] - 0s 2ms/step - loss: 0.5820 - accuracy: 0.7273\n"
          ],
          "name": "stdout"
        }
      ]
    },
    {
      "cell_type": "code",
      "metadata": {
        "colab": {
          "base_uri": "https://localhost:8080/"
        },
        "id": "ZL09nXSlJQJp",
        "outputId": "1fe1ccf8-6a5d-49c9-b07d-d4413d39c5fa"
      },
      "source": [
        "#get predicted value and probability of Y\r\n",
        "Y_predict = model.predict_classes(x_test)\r\n",
        "\r\n",
        "y_pred_prob = model.predict(x_test)"
      ],
      "execution_count": 28,
      "outputs": [
        {
          "output_type": "stream",
          "text": [
            "/usr/local/lib/python3.6/dist-packages/tensorflow/python/keras/engine/sequential.py:450: UserWarning: `model.predict_classes()` is deprecated and will be removed after 2021-01-01. Please use instead:* `np.argmax(model.predict(x), axis=-1)`,   if your model does multi-class classification   (e.g. if it uses a `softmax` last-layer activation).* `(model.predict(x) > 0.5).astype(\"int32\")`,   if your model does binary classification   (e.g. if it uses a `sigmoid` last-layer activation).\n",
            "  warnings.warn('`model.predict_classes()` is deprecated and '\n"
          ],
          "name": "stderr"
        }
      ]
    },
    {
      "cell_type": "code",
      "metadata": {
        "id": "pvagH1dUJWhA"
      },
      "source": [
        "#build confusion matrix\r\n",
        "from sklearn.metrics import confusion_matrix, classification_report\r\n",
        "cm = confusion_matrix(y_test, Y_predict)\r\n",
        "cr = classification_report(y_test,Y_predict)"
      ],
      "execution_count": 29,
      "outputs": []
    },
    {
      "cell_type": "code",
      "metadata": {
        "colab": {
          "base_uri": "https://localhost:8080/"
        },
        "id": "CL8Y3LzlJabY",
        "outputId": "b5a8a92a-d0b1-459b-a379-f86fe3668867"
      },
      "source": [
        "print(accuracy_test)\r\n",
        "print(cm)"
      ],
      "execution_count": 30,
      "outputs": [
        {
          "output_type": "stream",
          "text": [
            "[0.5819634795188904, 0.7272727489471436]\n",
            "[[90 10]\n",
            " [32 22]]\n"
          ],
          "name": "stdout"
        }
      ]
    },
    {
      "cell_type": "markdown",
      "metadata": {
        "id": "crsqwLArJr9q"
      },
      "source": [
        "The model as predicted the test data with 72.7% accuracy that is it has predicted 112 records correctly out of 154 record"
      ]
    }
  ]
}