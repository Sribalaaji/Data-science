{
  "nbformat": 4,
  "nbformat_minor": 0,
  "metadata": {
    "colab": {
      "name": "loan_status_prediction.ipynb",
      "provenance": []
    },
    "kernelspec": {
      "name": "python3",
      "display_name": "Python 3"
    }
  },
  "cells": [
    {
      "cell_type": "code",
      "metadata": {
        "id": "H98KNb47iOP7"
      },
      "source": [
        "#Importing pandas\r\n",
        "\r\n",
        "import pandas as pd"
      ],
      "execution_count": 31,
      "outputs": []
    },
    {
      "cell_type": "code",
      "metadata": {
        "colab": {
          "base_uri": "https://localhost:8080/"
        },
        "id": "8V02QcHXin5t",
        "outputId": "0327dffe-8ec5-4e29-e923-a14f55a65e9d"
      },
      "source": [
        "#read the data\r\n",
        "\r\n",
        "loandata = pd.read_csv(\"loan.csv\")\r\n",
        "\r\n",
        "print(loandata)"
      ],
      "execution_count": 32,
      "outputs": [
        {
          "output_type": "stream",
          "text": [
            "     gender married   ch  income  loanamt status\n",
            "0      Male      No  1.0    5849      NaN      Y\n",
            "1      Male     Yes  1.0    4583    128.0      N\n",
            "2      Male     Yes  1.0    3000     66.0      Y\n",
            "3      Male     Yes  1.0    2583    120.0      Y\n",
            "4      Male      No  1.0    6000    141.0      Y\n",
            "..      ...     ...  ...     ...      ...    ...\n",
            "609  Female      No  1.0    2900     71.0      Y\n",
            "610    Male     Yes  1.0    4106     40.0      Y\n",
            "611    Male     Yes  1.0    8072    253.0      Y\n",
            "612    Male     Yes  1.0    7583    187.0      Y\n",
            "613  Female      No  0.0    4583    133.0      N\n",
            "\n",
            "[614 rows x 6 columns]\n"
          ],
          "name": "stdout"
        }
      ]
    },
    {
      "cell_type": "markdown",
      "metadata": {
        "id": "HyTZO8l6VMUb"
      },
      "source": [
        "Creating a copy of the original data"
      ]
    },
    {
      "cell_type": "code",
      "metadata": {
        "id": "oL-hXDLHEp6n"
      },
      "source": [
        "loanprep = loandata.copy()"
      ],
      "execution_count": 33,
      "outputs": []
    },
    {
      "cell_type": "markdown",
      "metadata": {
        "id": "UWn4Ag67VUzJ"
      },
      "source": [
        "Cheaking missing values in the data\r\n"
      ]
    },
    {
      "cell_type": "code",
      "metadata": {
        "colab": {
          "base_uri": "https://localhost:8080/"
        },
        "id": "rGom4ar2EsBc",
        "outputId": "a0e400e3-e306-4b70-afcb-a080d1e12a22"
      },
      "source": [
        "loanprep.isnull().sum()"
      ],
      "execution_count": 34,
      "outputs": [
        {
          "output_type": "execute_result",
          "data": {
            "text/plain": [
              "gender     13\n",
              "married     3\n",
              "ch         50\n",
              "income      0\n",
              "loanamt    22\n",
              "status      0\n",
              "dtype: int64"
            ]
          },
          "metadata": {
            "tags": []
          },
          "execution_count": 34
        }
      ]
    },
    {
      "cell_type": "markdown",
      "metadata": {
        "id": "eJTCD9JEVdeS"
      },
      "source": [
        "From the above observation in total of 614 records there are max of 50 missing values. Lets clean the data buy droping the missing records"
      ]
    },
    {
      "cell_type": "code",
      "metadata": {
        "id": "OHba_jZNEuo6"
      },
      "source": [
        "loanprep = loanprep.dropna()"
      ],
      "execution_count": 35,
      "outputs": []
    },
    {
      "cell_type": "code",
      "metadata": {
        "colab": {
          "base_uri": "https://localhost:8080/"
        },
        "id": "BH03PcUCNPes",
        "outputId": "0fcfbfbb-a860-4368-a9b9-d751a2dd875f"
      },
      "source": [
        "loanprep.isnull().sum()"
      ],
      "execution_count": 36,
      "outputs": [
        {
          "output_type": "execute_result",
          "data": {
            "text/plain": [
              "gender     0\n",
              "married    0\n",
              "ch         0\n",
              "income     0\n",
              "loanamt    0\n",
              "status     0\n",
              "dtype: int64"
            ]
          },
          "metadata": {
            "tags": []
          },
          "execution_count": 36
        }
      ]
    },
    {
      "cell_type": "markdown",
      "metadata": {
        "id": "SMZ5-_laV5G8"
      },
      "source": [
        "Now there are no missing value present"
      ]
    },
    {
      "cell_type": "markdown",
      "metadata": {
        "id": "hUNPOh5QWAM_"
      },
      "source": [
        "Since this data is about granting loan to the customers. Mostly loan will be given irrespective of the gender so droping Gender column for further processing"
      ]
    },
    {
      "cell_type": "code",
      "metadata": {
        "id": "tK6YHJxvNR4T"
      },
      "source": [
        "loanprep = loanprep.drop([\"gender\"], axis= 1)"
      ],
      "execution_count": 37,
      "outputs": []
    },
    {
      "cell_type": "code",
      "metadata": {
        "colab": {
          "base_uri": "https://localhost:8080/"
        },
        "id": "54-r6eUaNWBE",
        "outputId": "30de6d72-9c58-4347-e2c3-bb44e9e1692e"
      },
      "source": [
        "loanprep.dtypes"
      ],
      "execution_count": 38,
      "outputs": [
        {
          "output_type": "execute_result",
          "data": {
            "text/plain": [
              "married     object\n",
              "ch         float64\n",
              "income       int64\n",
              "loanamt    float64\n",
              "status      object\n",
              "dtype: object"
            ]
          },
          "metadata": {
            "tags": []
          },
          "execution_count": 38
        }
      ]
    },
    {
      "cell_type": "markdown",
      "metadata": {
        "id": "0TOoZghkWafu"
      },
      "source": [
        "since there are some categorical variable, hot-encoding the variable by creating dummies using get dummies"
      ]
    },
    {
      "cell_type": "code",
      "metadata": {
        "colab": {
          "base_uri": "https://localhost:8080/"
        },
        "id": "XlrdB3YFNZdr",
        "outputId": "170d72ff-9fba-4e0f-d0f9-ef405db9ada6"
      },
      "source": [
        "loanprep = pd.get_dummies(loanprep, drop_first=True)\r\n",
        "print(loanprep)\r\n"
      ],
      "execution_count": 39,
      "outputs": [
        {
          "output_type": "stream",
          "text": [
            "      ch  income  loanamt  married_Yes  status_Y\n",
            "1    1.0    4583    128.0            1         0\n",
            "2    1.0    3000     66.0            1         1\n",
            "3    1.0    2583    120.0            1         1\n",
            "4    1.0    6000    141.0            0         1\n",
            "5    1.0    5417    267.0            1         1\n",
            "..   ...     ...      ...          ...       ...\n",
            "609  1.0    2900     71.0            0         1\n",
            "610  1.0    4106     40.0            1         1\n",
            "611  1.0    8072    253.0            1         1\n",
            "612  1.0    7583    187.0            1         1\n",
            "613  0.0    4583    133.0            0         0\n",
            "\n",
            "[529 rows x 5 columns]\n"
          ],
          "name": "stdout"
        }
      ]
    },
    {
      "cell_type": "markdown",
      "metadata": {
        "id": "axUWy40pXQX0"
      },
      "source": [
        "Next Normalising the Income and Loanamt features by importing standardscaler from sklearn"
      ]
    },
    {
      "cell_type": "code",
      "metadata": {
        "id": "3HhYcDbENcEU"
      },
      "source": [
        "from sklearn.preprocessing import StandardScaler\r\n",
        "# creating the object for the class\r\n",
        "scaler_ = StandardScaler()"
      ],
      "execution_count": 40,
      "outputs": []
    },
    {
      "cell_type": "code",
      "metadata": {
        "id": "ljOuZjcuNfDb"
      },
      "source": [
        "loanprep[[\"income\" ,\"loanamt\"]]= scaler_.fit_transform(loanprep[[\"income\",\"loanamt\"]])"
      ],
      "execution_count": 41,
      "outputs": []
    },
    {
      "cell_type": "code",
      "metadata": {
        "colab": {
          "base_uri": "https://localhost:8080/",
          "height": 419
        },
        "id": "oafabi-XNlzj",
        "outputId": "34fa598a-815b-440f-bcb7-c917e08f7ded"
      },
      "source": [
        "loanprep"
      ],
      "execution_count": 42,
      "outputs": [
        {
          "output_type": "execute_result",
          "data": {
            "text/html": [
              "<div>\n",
              "<style scoped>\n",
              "    .dataframe tbody tr th:only-of-type {\n",
              "        vertical-align: middle;\n",
              "    }\n",
              "\n",
              "    .dataframe tbody tr th {\n",
              "        vertical-align: top;\n",
              "    }\n",
              "\n",
              "    .dataframe thead th {\n",
              "        text-align: right;\n",
              "    }\n",
              "</style>\n",
              "<table border=\"1\" class=\"dataframe\">\n",
              "  <thead>\n",
              "    <tr style=\"text-align: right;\">\n",
              "      <th></th>\n",
              "      <th>ch</th>\n",
              "      <th>income</th>\n",
              "      <th>loanamt</th>\n",
              "      <th>married_Yes</th>\n",
              "      <th>status_Y</th>\n",
              "    </tr>\n",
              "  </thead>\n",
              "  <tbody>\n",
              "    <tr>\n",
              "      <th>1</th>\n",
              "      <td>1.0</td>\n",
              "      <td>-0.128073</td>\n",
              "      <td>-0.194250</td>\n",
              "      <td>1</td>\n",
              "      <td>0</td>\n",
              "    </tr>\n",
              "    <tr>\n",
              "      <th>2</th>\n",
              "      <td>1.0</td>\n",
              "      <td>-0.392077</td>\n",
              "      <td>-0.971015</td>\n",
              "      <td>1</td>\n",
              "      <td>1</td>\n",
              "    </tr>\n",
              "    <tr>\n",
              "      <th>3</th>\n",
              "      <td>1.0</td>\n",
              "      <td>-0.461621</td>\n",
              "      <td>-0.294478</td>\n",
              "      <td>1</td>\n",
              "      <td>1</td>\n",
              "    </tr>\n",
              "    <tr>\n",
              "      <th>4</th>\n",
              "      <td>1.0</td>\n",
              "      <td>0.108246</td>\n",
              "      <td>-0.031380</td>\n",
              "      <td>0</td>\n",
              "      <td>1</td>\n",
              "    </tr>\n",
              "    <tr>\n",
              "      <th>5</th>\n",
              "      <td>1.0</td>\n",
              "      <td>0.011017</td>\n",
              "      <td>1.547205</td>\n",
              "      <td>1</td>\n",
              "      <td>1</td>\n",
              "    </tr>\n",
              "    <tr>\n",
              "      <th>...</th>\n",
              "      <td>...</td>\n",
              "      <td>...</td>\n",
              "      <td>...</td>\n",
              "      <td>...</td>\n",
              "      <td>...</td>\n",
              "    </tr>\n",
              "    <tr>\n",
              "      <th>609</th>\n",
              "      <td>1.0</td>\n",
              "      <td>-0.408754</td>\n",
              "      <td>-0.908372</td>\n",
              "      <td>0</td>\n",
              "      <td>1</td>\n",
              "    </tr>\n",
              "    <tr>\n",
              "      <th>610</th>\n",
              "      <td>1.0</td>\n",
              "      <td>-0.207624</td>\n",
              "      <td>-1.296754</td>\n",
              "      <td>1</td>\n",
              "      <td>1</td>\n",
              "    </tr>\n",
              "    <tr>\n",
              "      <th>611</th>\n",
              "      <td>1.0</td>\n",
              "      <td>0.453802</td>\n",
              "      <td>1.371807</td>\n",
              "      <td>1</td>\n",
              "      <td>1</td>\n",
              "    </tr>\n",
              "    <tr>\n",
              "      <th>612</th>\n",
              "      <td>1.0</td>\n",
              "      <td>0.372249</td>\n",
              "      <td>0.544929</td>\n",
              "      <td>1</td>\n",
              "      <td>1</td>\n",
              "    </tr>\n",
              "    <tr>\n",
              "      <th>613</th>\n",
              "      <td>0.0</td>\n",
              "      <td>-0.128073</td>\n",
              "      <td>-0.131608</td>\n",
              "      <td>0</td>\n",
              "      <td>0</td>\n",
              "    </tr>\n",
              "  </tbody>\n",
              "</table>\n",
              "<p>529 rows × 5 columns</p>\n",
              "</div>"
            ],
            "text/plain": [
              "      ch    income   loanamt  married_Yes  status_Y\n",
              "1    1.0 -0.128073 -0.194250            1         0\n",
              "2    1.0 -0.392077 -0.971015            1         1\n",
              "3    1.0 -0.461621 -0.294478            1         1\n",
              "4    1.0  0.108246 -0.031380            0         1\n",
              "5    1.0  0.011017  1.547205            1         1\n",
              "..   ...       ...       ...          ...       ...\n",
              "609  1.0 -0.408754 -0.908372            0         1\n",
              "610  1.0 -0.207624 -1.296754            1         1\n",
              "611  1.0  0.453802  1.371807            1         1\n",
              "612  1.0  0.372249  0.544929            1         1\n",
              "613  0.0 -0.128073 -0.131608            0         0\n",
              "\n",
              "[529 rows x 5 columns]"
            ]
          },
          "metadata": {
            "tags": []
          },
          "execution_count": 42
        }
      ]
    },
    {
      "cell_type": "markdown",
      "metadata": {
        "id": "UXYUxxYmYGeJ"
      },
      "source": [
        "Now the values of Income and loanamt are normally distributed"
      ]
    },
    {
      "cell_type": "markdown",
      "metadata": {
        "id": "8OU50iuKYUTi"
      },
      "source": [
        "Now spliting the dataset into X(independent features) and Y(dependent feature)"
      ]
    },
    {
      "cell_type": "code",
      "metadata": {
        "id": "nFjXkSUQODAC"
      },
      "source": [
        "Y = loanprep[[\"status_Y\"]]\r\n",
        "X = loanprep.iloc[: , :-1]"
      ],
      "execution_count": 43,
      "outputs": []
    },
    {
      "cell_type": "code",
      "metadata": {
        "colab": {
          "base_uri": "https://localhost:8080/"
        },
        "id": "wcaC3Q1DOH3a",
        "outputId": "1649ccb8-4bc6-4e83-e5b7-0bf317c8da41"
      },
      "source": [
        "print(X)\r\n",
        "print(Y)"
      ],
      "execution_count": 44,
      "outputs": [
        {
          "output_type": "stream",
          "text": [
            "      ch    income   loanamt  married_Yes\n",
            "1    1.0 -0.128073 -0.194250            1\n",
            "2    1.0 -0.392077 -0.971015            1\n",
            "3    1.0 -0.461621 -0.294478            1\n",
            "4    1.0  0.108246 -0.031380            0\n",
            "5    1.0  0.011017  1.547205            1\n",
            "..   ...       ...       ...          ...\n",
            "609  1.0 -0.408754 -0.908372            0\n",
            "610  1.0 -0.207624 -1.296754            1\n",
            "611  1.0  0.453802  1.371807            1\n",
            "612  1.0  0.372249  0.544929            1\n",
            "613  0.0 -0.128073 -0.131608            0\n",
            "\n",
            "[529 rows x 4 columns]\n",
            "     status_Y\n",
            "1           0\n",
            "2           1\n",
            "3           1\n",
            "4           1\n",
            "5           1\n",
            "..        ...\n",
            "609         1\n",
            "610         1\n",
            "611         1\n",
            "612         1\n",
            "613         0\n",
            "\n",
            "[529 rows x 1 columns]\n"
          ],
          "name": "stdout"
        }
      ]
    },
    {
      "cell_type": "markdown",
      "metadata": {
        "id": "WWJORWSPYmim"
      },
      "source": [
        "Importing train_test_split model to split the data into train and test dataset"
      ]
    },
    {
      "cell_type": "code",
      "metadata": {
        "id": "Eym8nvqNOLpa"
      },
      "source": [
        "from sklearn.model_selection import train_test_split\r\n",
        "\r\n",
        "x_train,x_test,y_train,y_test = \\\r\n",
        "    train_test_split(X, Y, test_size = 0.3, random_state= 1234 , stratify = Y)"
      ],
      "execution_count": 45,
      "outputs": []
    },
    {
      "cell_type": "code",
      "metadata": {
        "colab": {
          "base_uri": "https://localhost:8080/",
          "height": 419
        },
        "id": "sLpT_ZkCOPmx",
        "outputId": "d952e729-54e7-44df-afd4-8e346a379d3f"
      },
      "source": [
        "x_train"
      ],
      "execution_count": 46,
      "outputs": [
        {
          "output_type": "execute_result",
          "data": {
            "text/html": [
              "<div>\n",
              "<style scoped>\n",
              "    .dataframe tbody tr th:only-of-type {\n",
              "        vertical-align: middle;\n",
              "    }\n",
              "\n",
              "    .dataframe tbody tr th {\n",
              "        vertical-align: top;\n",
              "    }\n",
              "\n",
              "    .dataframe thead th {\n",
              "        text-align: right;\n",
              "    }\n",
              "</style>\n",
              "<table border=\"1\" class=\"dataframe\">\n",
              "  <thead>\n",
              "    <tr style=\"text-align: right;\">\n",
              "      <th></th>\n",
              "      <th>ch</th>\n",
              "      <th>income</th>\n",
              "      <th>loanamt</th>\n",
              "      <th>married_Yes</th>\n",
              "    </tr>\n",
              "  </thead>\n",
              "  <tbody>\n",
              "    <tr>\n",
              "      <th>17</th>\n",
              "      <td>0.0</td>\n",
              "      <td>-0.307022</td>\n",
              "      <td>-0.845730</td>\n",
              "      <td>0</td>\n",
              "    </tr>\n",
              "    <tr>\n",
              "      <th>474</th>\n",
              "      <td>1.0</td>\n",
              "      <td>0.030196</td>\n",
              "      <td>0.231717</td>\n",
              "      <td>0</td>\n",
              "    </tr>\n",
              "    <tr>\n",
              "      <th>512</th>\n",
              "      <td>1.0</td>\n",
              "      <td>-0.344880</td>\n",
              "      <td>0.056319</td>\n",
              "      <td>1</td>\n",
              "    </tr>\n",
              "    <tr>\n",
              "      <th>459</th>\n",
              "      <td>1.0</td>\n",
              "      <td>0.497497</td>\n",
              "      <td>0.206660</td>\n",
              "      <td>1</td>\n",
              "    </tr>\n",
              "    <tr>\n",
              "      <th>405</th>\n",
              "      <td>1.0</td>\n",
              "      <td>-0.134077</td>\n",
              "      <td>-0.357120</td>\n",
              "      <td>0</td>\n",
              "    </tr>\n",
              "    <tr>\n",
              "      <th>...</th>\n",
              "      <td>...</td>\n",
              "      <td>...</td>\n",
              "      <td>...</td>\n",
              "      <td>...</td>\n",
              "    </tr>\n",
              "    <tr>\n",
              "      <th>289</th>\n",
              "      <td>1.0</td>\n",
              "      <td>0.693290</td>\n",
              "      <td>0.544929</td>\n",
              "      <td>0</td>\n",
              "    </tr>\n",
              "    <tr>\n",
              "      <th>386</th>\n",
              "      <td>1.0</td>\n",
              "      <td>-0.501147</td>\n",
              "      <td>-0.144136</td>\n",
              "      <td>0</td>\n",
              "    </tr>\n",
              "    <tr>\n",
              "      <th>118</th>\n",
              "      <td>1.0</td>\n",
              "      <td>0.036199</td>\n",
              "      <td>0.394587</td>\n",
              "      <td>1</td>\n",
              "    </tr>\n",
              "    <tr>\n",
              "      <th>225</th>\n",
              "      <td>1.0</td>\n",
              "      <td>-0.350383</td>\n",
              "      <td>0.331945</td>\n",
              "      <td>1</td>\n",
              "    </tr>\n",
              "    <tr>\n",
              "      <th>581</th>\n",
              "      <td>1.0</td>\n",
              "      <td>-0.586202</td>\n",
              "      <td>-0.670332</td>\n",
              "      <td>0</td>\n",
              "    </tr>\n",
              "  </tbody>\n",
              "</table>\n",
              "<p>370 rows × 4 columns</p>\n",
              "</div>"
            ],
            "text/plain": [
              "      ch    income   loanamt  married_Yes\n",
              "17   0.0 -0.307022 -0.845730            0\n",
              "474  1.0  0.030196  0.231717            0\n",
              "512  1.0 -0.344880  0.056319            1\n",
              "459  1.0  0.497497  0.206660            1\n",
              "405  1.0 -0.134077 -0.357120            0\n",
              "..   ...       ...       ...          ...\n",
              "289  1.0  0.693290  0.544929            0\n",
              "386  1.0 -0.501147 -0.144136            0\n",
              "118  1.0  0.036199  0.394587            1\n",
              "225  1.0 -0.350383  0.331945            1\n",
              "581  1.0 -0.586202 -0.670332            0\n",
              "\n",
              "[370 rows x 4 columns]"
            ]
          },
          "metadata": {
            "tags": []
          },
          "execution_count": 46
        }
      ]
    },
    {
      "cell_type": "code",
      "metadata": {
        "colab": {
          "base_uri": "https://localhost:8080/",
          "height": 419
        },
        "id": "aso6NFCxOTBh",
        "outputId": "d17929ae-2a1f-4a6b-d0fe-d4ecab34c162"
      },
      "source": [
        "x_test"
      ],
      "execution_count": 47,
      "outputs": [
        {
          "output_type": "execute_result",
          "data": {
            "text/html": [
              "<div>\n",
              "<style scoped>\n",
              "    .dataframe tbody tr th:only-of-type {\n",
              "        vertical-align: middle;\n",
              "    }\n",
              "\n",
              "    .dataframe tbody tr th {\n",
              "        vertical-align: top;\n",
              "    }\n",
              "\n",
              "    .dataframe thead th {\n",
              "        text-align: right;\n",
              "    }\n",
              "</style>\n",
              "<table border=\"1\" class=\"dataframe\">\n",
              "  <thead>\n",
              "    <tr style=\"text-align: right;\">\n",
              "      <th></th>\n",
              "      <th>ch</th>\n",
              "      <th>income</th>\n",
              "      <th>loanamt</th>\n",
              "      <th>married_Yes</th>\n",
              "    </tr>\n",
              "  </thead>\n",
              "  <tbody>\n",
              "    <tr>\n",
              "      <th>373</th>\n",
              "      <td>0.0</td>\n",
              "      <td>-0.381737</td>\n",
              "      <td>-0.407234</td>\n",
              "      <td>0</td>\n",
              "    </tr>\n",
              "    <tr>\n",
              "      <th>464</th>\n",
              "      <td>0.0</td>\n",
              "      <td>-0.197618</td>\n",
              "      <td>-0.570104</td>\n",
              "      <td>0</td>\n",
              "    </tr>\n",
              "    <tr>\n",
              "      <th>3</th>\n",
              "      <td>1.0</td>\n",
              "      <td>-0.461621</td>\n",
              "      <td>-0.294478</td>\n",
              "      <td>1</td>\n",
              "    </tr>\n",
              "    <tr>\n",
              "      <th>262</th>\n",
              "      <td>1.0</td>\n",
              "      <td>-0.311858</td>\n",
              "      <td>0.144018</td>\n",
              "      <td>0</td>\n",
              "    </tr>\n",
              "    <tr>\n",
              "      <th>401</th>\n",
              "      <td>1.0</td>\n",
              "      <td>-0.432936</td>\n",
              "      <td>-0.983543</td>\n",
              "      <td>0</td>\n",
              "    </tr>\n",
              "    <tr>\n",
              "      <th>...</th>\n",
              "      <td>...</td>\n",
              "      <td>...</td>\n",
              "      <td>...</td>\n",
              "      <td>...</td>\n",
              "    </tr>\n",
              "    <tr>\n",
              "      <th>360</th>\n",
              "      <td>1.0</td>\n",
              "      <td>-0.104725</td>\n",
              "      <td>-0.783088</td>\n",
              "      <td>0</td>\n",
              "    </tr>\n",
              "    <tr>\n",
              "      <th>71</th>\n",
              "      <td>1.0</td>\n",
              "      <td>-0.579698</td>\n",
              "      <td>-0.582632</td>\n",
              "      <td>1</td>\n",
              "    </tr>\n",
              "    <tr>\n",
              "      <th>96</th>\n",
              "      <td>1.0</td>\n",
              "      <td>-0.478132</td>\n",
              "      <td>-0.081494</td>\n",
              "      <td>1</td>\n",
              "    </tr>\n",
              "    <tr>\n",
              "      <th>388</th>\n",
              "      <td>1.0</td>\n",
              "      <td>-0.503315</td>\n",
              "      <td>-0.094023</td>\n",
              "      <td>1</td>\n",
              "    </tr>\n",
              "    <tr>\n",
              "      <th>270</th>\n",
              "      <td>1.0</td>\n",
              "      <td>-0.352551</td>\n",
              "      <td>-1.422039</td>\n",
              "      <td>0</td>\n",
              "    </tr>\n",
              "  </tbody>\n",
              "</table>\n",
              "<p>159 rows × 4 columns</p>\n",
              "</div>"
            ],
            "text/plain": [
              "      ch    income   loanamt  married_Yes\n",
              "373  0.0 -0.381737 -0.407234            0\n",
              "464  0.0 -0.197618 -0.570104            0\n",
              "3    1.0 -0.461621 -0.294478            1\n",
              "262  1.0 -0.311858  0.144018            0\n",
              "401  1.0 -0.432936 -0.983543            0\n",
              "..   ...       ...       ...          ...\n",
              "360  1.0 -0.104725 -0.783088            0\n",
              "71   1.0 -0.579698 -0.582632            1\n",
              "96   1.0 -0.478132 -0.081494            1\n",
              "388  1.0 -0.503315 -0.094023            1\n",
              "270  1.0 -0.352551 -1.422039            0\n",
              "\n",
              "[159 rows x 4 columns]"
            ]
          },
          "metadata": {
            "tags": []
          },
          "execution_count": 47
        }
      ]
    },
    {
      "cell_type": "markdown",
      "metadata": {
        "id": "G1-e6Be0Y2lW"
      },
      "source": [
        "Now Importing logistic regression model."
      ]
    },
    {
      "cell_type": "code",
      "metadata": {
        "id": "IftgQ5KoOUYR"
      },
      "source": [
        "from sklearn.linear_model import LogisticRegression\r\n",
        "\r\n",
        "lr = LogisticRegression()"
      ],
      "execution_count": 48,
      "outputs": []
    },
    {
      "cell_type": "markdown",
      "metadata": {
        "id": "OnqURaQ-ZH5o"
      },
      "source": [
        "Fitting the data to logistic regression model"
      ]
    },
    {
      "cell_type": "code",
      "metadata": {
        "colab": {
          "base_uri": "https://localhost:8080/"
        },
        "id": "qa37EKRfOYSZ",
        "outputId": "6aa720f2-0a77-4fef-b734-992899d9f6fb"
      },
      "source": [
        "lr.fit(x_train,y_train)"
      ],
      "execution_count": 49,
      "outputs": [
        {
          "output_type": "stream",
          "text": [
            "/usr/local/lib/python3.6/dist-packages/sklearn/utils/validation.py:760: DataConversionWarning: A column-vector y was passed when a 1d array was expected. Please change the shape of y to (n_samples, ), for example using ravel().\n",
            "  y = column_or_1d(y, warn=True)\n"
          ],
          "name": "stderr"
        },
        {
          "output_type": "execute_result",
          "data": {
            "text/plain": [
              "LogisticRegression(C=1.0, class_weight=None, dual=False, fit_intercept=True,\n",
              "                   intercept_scaling=1, l1_ratio=None, max_iter=100,\n",
              "                   multi_class='auto', n_jobs=None, penalty='l2',\n",
              "                   random_state=None, solver='lbfgs', tol=0.0001, verbose=0,\n",
              "                   warm_start=False)"
            ]
          },
          "metadata": {
            "tags": []
          },
          "execution_count": 49
        }
      ]
    },
    {
      "cell_type": "markdown",
      "metadata": {
        "id": "ut_BCLsEZQEL"
      },
      "source": [
        "Predicting the dependent variable using logistic regression"
      ]
    },
    {
      "cell_type": "code",
      "metadata": {
        "colab": {
          "base_uri": "https://localhost:8080/"
        },
        "id": "ss_7cKluObPJ",
        "outputId": "05a891e6-6a9f-475f-c794-8e4397b3d961"
      },
      "source": [
        "Y_predict = lr.predict(x_test)\r\n",
        "print(Y_predict)"
      ],
      "execution_count": 51,
      "outputs": [
        {
          "output_type": "stream",
          "text": [
            "[0 0 1 1 1 0 1 1 0 1 1 0 1 0 0 1 1 1 1 0 1 1 1 1 1 1 1 1 1 1 0 0 1 1 1 0 1\n",
            " 1 0 1 1 1 1 1 0 0 1 1 1 1 0 1 0 1 1 0 1 1 1 1 1 1 1 1 1 1 1 1 1 1 1 1 1 1\n",
            " 1 1 1 1 1 1 0 1 1 1 1 1 1 0 1 1 1 0 0 1 1 1 1 1 1 1 0 1 0 1 1 1 1 1 1 1 1\n",
            " 1 1 0 1 1 0 1 1 1 1 1 1 1 1 1 0 1 1 0 1 1 1 0 0 1 1 1 1 1 1 1 1 1 1 1 0 1\n",
            " 1 1 1 0 1 1 1 1 1 1 1]\n"
          ],
          "name": "stdout"
        }
      ]
    },
    {
      "cell_type": "markdown",
      "metadata": {
        "id": "tRu3jd1SZhRJ"
      },
      "source": [
        "Lets check the model prediction accuracy using accuracy score and confusion matrix"
      ]
    },
    {
      "cell_type": "code",
      "metadata": {
        "id": "3rsjeXsmOdsh"
      },
      "source": [
        "from sklearn.metrics import confusion_matrix"
      ],
      "execution_count": 52,
      "outputs": []
    },
    {
      "cell_type": "code",
      "metadata": {
        "id": "c7T7fYgmOpno"
      },
      "source": [
        "cm = confusion_matrix(y_test, Y_predict)"
      ],
      "execution_count": 53,
      "outputs": []
    },
    {
      "cell_type": "code",
      "metadata": {
        "id": "VUe2Cc0XOsoh"
      },
      "source": [
        "score = lr.score(x_test,y_test)"
      ],
      "execution_count": 54,
      "outputs": []
    },
    {
      "cell_type": "markdown",
      "metadata": {
        "id": "UkMEzZH0Zxoc"
      },
      "source": [
        "Also lets check the precision,recall and F1 score"
      ]
    },
    {
      "cell_type": "code",
      "metadata": {
        "id": "bUlwbkeEOuzI"
      },
      "source": [
        "from sklearn.metrics import classification_report"
      ],
      "execution_count": 55,
      "outputs": []
    },
    {
      "cell_type": "code",
      "metadata": {
        "id": "fshM7vvvO1i4"
      },
      "source": [
        "cr = classification_report(y_test, Y_predict)"
      ],
      "execution_count": 56,
      "outputs": []
    },
    {
      "cell_type": "code",
      "metadata": {
        "colab": {
          "base_uri": "https://localhost:8080/"
        },
        "id": "OSjBKzKbO314",
        "outputId": "48a61d3b-b3c2-4f11-c050-cb4be1542597"
      },
      "source": [
        "print(cm)"
      ],
      "execution_count": 57,
      "outputs": [
        {
          "output_type": "stream",
          "text": [
            "[[ 29  20]\n",
            " [  2 108]]\n"
          ],
          "name": "stdout"
        }
      ]
    },
    {
      "cell_type": "markdown",
      "metadata": {
        "id": "snkMmUBEZ_I4"
      },
      "source": [
        "As we can see out of 159 record the model as predicted 137 records correctly"
      ]
    },
    {
      "cell_type": "code",
      "metadata": {
        "colab": {
          "base_uri": "https://localhost:8080/"
        },
        "id": "jOmfJkbqO6XJ",
        "outputId": "38349a0f-9908-43a7-b534-9bbd7efbbd84"
      },
      "source": [
        "print(score)"
      ],
      "execution_count": 58,
      "outputs": [
        {
          "output_type": "stream",
          "text": [
            "0.8616352201257862\n"
          ],
          "name": "stdout"
        }
      ]
    },
    {
      "cell_type": "markdown",
      "metadata": {
        "id": "5Pf1geK2aVGP"
      },
      "source": [
        "And the accuracy of this model is 0.8616 or 86.16% "
      ]
    },
    {
      "cell_type": "code",
      "metadata": {
        "colab": {
          "base_uri": "https://localhost:8080/"
        },
        "id": "WZX5a8moO8mI",
        "outputId": "9e251dbb-2a6a-48c0-8dea-ffa64effdef6"
      },
      "source": [
        "print(cr)"
      ],
      "execution_count": 59,
      "outputs": [
        {
          "output_type": "stream",
          "text": [
            "              precision    recall  f1-score   support\n",
            "\n",
            "           0       0.94      0.59      0.72        49\n",
            "           1       0.84      0.98      0.91       110\n",
            "\n",
            "    accuracy                           0.86       159\n",
            "   macro avg       0.89      0.79      0.82       159\n",
            "weighted avg       0.87      0.86      0.85       159\n",
            "\n"
          ],
          "name": "stdout"
        }
      ]
    },
    {
      "cell_type": "markdown",
      "metadata": {
        "id": "DeDU5y2tal4d"
      },
      "source": [
        "The precising on true values is 84% and recall is 98% and F1 score for this model is 91%"
      ]
    },
    {
      "cell_type": "code",
      "metadata": {
        "id": "EEGLGb9VO-WI"
      },
      "source": [
        ""
      ],
      "execution_count": null,
      "outputs": []
    }
  ]
}